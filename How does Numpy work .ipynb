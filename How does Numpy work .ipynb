{
 "cells": [
  {
   "cell_type": "markdown",
   "metadata": {},
   "source": [
    "## Excursus: How does Numpy even work?\n",
    "\n",
    "In this lesson we will rebuild the `array` class to understand what happens in the background at Numpy."
   ]
  },
  {
   "cell_type": "code",
   "execution_count": 8,
   "metadata": {},
   "outputs": [
    {
     "name": "stdout",
     "output_type": "stream",
     "text": [
      "[1 4 9]\n"
     ]
    }
   ],
   "source": [
    "import numpy as np\n",
    "\n",
    "a = np.array([1,2,3])\n",
    "print(a**2)"
   ]
  },
  {
   "cell_type": "code",
   "execution_count": 7,
   "metadata": {},
   "outputs": [
    {
     "name": "stdout",
     "output_type": "stream",
     "text": [
      "[1, 2, 3]\n",
      "[2, 4, 6]\n"
     ]
    }
   ],
   "source": [
    "class MyArray():\n",
    "    def __init__(self, list1):\n",
    "        self.list1 = list1\n",
    "    \n",
    "    def __mul__(self, other):\n",
    "        nlist1 = []\n",
    "        for element in self.list1:\n",
    "            nlist1.append(element*other)\n",
    "        return nlist1\n",
    "        \n",
    "a = MyArray([1,2,3])\n",
    "b = a*2\n",
    "b = a.__mul__(2)\n",
    "print(a.list1)\n",
    "print(b)\n"
   ]
  },
  {
   "cell_type": "code",
   "execution_count": null,
   "metadata": {},
   "outputs": [],
   "source": []
  }
 ],
 "metadata": {
  "kernelspec": {
   "display_name": "Python 3",
   "language": "python",
   "name": "python3"
  },
  "language_info": {
   "codemirror_mode": {
    "name": "ipython",
    "version": 3
   },
   "file_extension": ".py",
   "mimetype": "text/x-python",
   "name": "python",
   "nbconvert_exporter": "python",
   "pygments_lexer": "ipython3",
   "version": "3.8.5"
  }
 },
 "nbformat": 4,
 "nbformat_minor": 2
}
